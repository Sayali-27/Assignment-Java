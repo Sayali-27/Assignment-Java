{
  "nbformat": 4,
  "nbformat_minor": 0,
  "metadata": {
    "colab": {
      "name": "Untitled0.ipynb",
      "provenance": [],
      "authorship_tag": "ABX9TyNgzMcOrnWkLE4wMCinDgcy",
      "include_colab_link": true
    },
    "kernelspec": {
      "name": "python3",
      "display_name": "Python 3"
    }
  },
  "cells": [
    {
      "cell_type": "markdown",
      "metadata": {
        "id": "view-in-github",
        "colab_type": "text"
      },
      "source": [
        "<a href=\"https://colab.research.google.com/github/Sayali-27/Assignment-Java/blob/main/pythonessentialday2ass.ipynb\" target=\"_parent\"><img src=\"https://colab.research.google.com/assets/colab-badge.svg\" alt=\"Open In Colab\"/></a>"
      ]
    },
    {
      "cell_type": "code",
      "metadata": {
        "id": "V3l2XQizCsXd"
      },
      "source": [
        "# String Functions"
      ],
      "execution_count": null,
      "outputs": []
    },
    {
      "cell_type": "code",
      "metadata": {
        "id": "E7wNCv3vCxSc"
      },
      "source": [
        "s1=\"Hello Sara\"\r\n",
        "print(s1.replace('Hello','Hii'))"
      ],
      "execution_count": null,
      "outputs": []
    },
    {
      "cell_type": "code",
      "metadata": {
        "colab": {
          "base_uri": "https://localhost:8080/"
        },
        "id": "JYKO5xtjCxec",
        "outputId": "b94494e7-09ed-42a7-eba4-28df6ddd5ebe"
      },
      "source": [
        "s1=\"Python\"\r\n",
        "print(''.join(reversed(s1)))"
      ],
      "execution_count": 1,
      "outputs": [
        {
          "output_type": "stream",
          "text": [
            "nohtyP\n"
          ],
          "name": "stdout"
        }
      ]
    },
    {
      "cell_type": "code",
      "metadata": {
        "id": "_8UCvLWDCxmX"
      },
      "source": [
        "s1='ABC'\r\n",
        "s2='123'\r\n",
        "print(s1.join(s2))"
      ],
      "execution_count": null,
      "outputs": []
    },
    {
      "cell_type": "code",
      "metadata": {
        "id": "UPvGOnDdCxod"
      },
      "source": [
        "text=\"I am Sara\"\r\n",
        "print(text.split())"
      ],
      "execution_count": null,
      "outputs": []
    },
    {
      "cell_type": "code",
      "metadata": {
        "id": "it-46CpmCxsr"
      },
      "source": [
        "text=\"I am Sara\"\r\n",
        "print(len(text))"
      ],
      "execution_count": null,
      "outputs": []
    },
    {
      "cell_type": "code",
      "metadata": {
        "id": "lRj9YE49Cxva"
      },
      "source": [
        "# List Functions"
      ],
      "execution_count": null,
      "outputs": []
    },
    {
      "cell_type": "code",
      "metadata": {
        "id": "Z1jO6j3YDYZE"
      },
      "source": [
        "lst=[1,2,3,4]\r\n",
        "lst.append(5)\r\n",
        "print(lst)"
      ],
      "execution_count": null,
      "outputs": []
    },
    {
      "cell_type": "code",
      "metadata": {
        "id": "8ToCy3bSDYbo"
      },
      "source": [
        "lst.extend(['VK',20.5])\r\n",
        "print(lst)"
      ],
      "execution_count": null,
      "outputs": []
    },
    {
      "cell_type": "code",
      "metadata": {
        "id": "UaX6eMCHDYfE"
      },
      "source": [
        "lst.remove(4)\r\n",
        "print(lst)"
      ],
      "execution_count": null,
      "outputs": []
    },
    {
      "cell_type": "code",
      "metadata": {
        "id": "sN8jOKgmDYg-"
      },
      "source": [
        "print(lst.index(20.5))"
      ],
      "execution_count": null,
      "outputs": []
    },
    {
      "cell_type": "code",
      "metadata": {
        "id": "Uyr_5IrLDYke"
      },
      "source": [
        "lst=[1,2,3,4]\r\n",
        "lst.reverse()\r\n",
        "print(lst)"
      ],
      "execution_count": null,
      "outputs": []
    },
    {
      "cell_type": "code",
      "metadata": {
        "id": "YKNDKfzpDYmP"
      },
      "source": [
        "# Dict Functions"
      ],
      "execution_count": null,
      "outputs": []
    },
    {
      "cell_type": "code",
      "metadata": {
        "id": "NU-8rfAJDYqK"
      },
      "source": [
        "dict={1:'Sara',2:'VK',3:'MSD',4:\"HP\",5:\"RS\"}\r\n",
        "print(dict.items())"
      ],
      "execution_count": null,
      "outputs": []
    },
    {
      "cell_type": "code",
      "metadata": {
        "id": "7r2gCeeJDYsG"
      },
      "source": [
        "print(dict.values())"
      ],
      "execution_count": null,
      "outputs": []
    },
    {
      "cell_type": "code",
      "metadata": {
        "id": "nvKLzkFXDYv0"
      },
      "source": [
        "dict.pop(2)\r\n",
        "print(dict)"
      ],
      "execution_count": null,
      "outputs": []
    },
    {
      "cell_type": "code",
      "metadata": {
        "id": "fnrAtKVYCxyk"
      },
      "source": [
        "dict_new=dict.copy()\r\n",
        "print(dict_new)"
      ],
      "execution_count": null,
      "outputs": []
    },
    {
      "cell_type": "code",
      "metadata": {
        "id": "AeiFCMxMD2KF"
      },
      "source": [
        "dict={1:'Sara',2:'VK',3:'MSD',4:\"HP\",5:\"RS\"}\r\n",
        "dict.clear()\r\n",
        "print(dict)"
      ],
      "execution_count": null,
      "outputs": []
    }
  ]
}