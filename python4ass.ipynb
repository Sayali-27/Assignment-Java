{
  "nbformat": 4,
  "nbformat_minor": 0,
  "metadata": {
    "colab": {
      "name": "Untitled2.ipynb",
      "provenance": [],
      "authorship_tag": "ABX9TyNpqswPpmXgC2ysx39C+LpW",
      "include_colab_link": true
    },
    "kernelspec": {
      "name": "python3",
      "display_name": "Python 3"
    }
  },
  "cells": [
    {
      "cell_type": "markdown",
      "metadata": {
        "id": "view-in-github",
        "colab_type": "text"
      },
      "source": [
        "<a href=\"https://colab.research.google.com/github/Sayali-27/Assignment-Java/blob/main/python4ass.ipynb\" target=\"_parent\"><img src=\"https://colab.research.google.com/assets/colab-badge.svg\" alt=\"Open In Colab\"/></a>"
      ]
    },
    {
      "cell_type": "code",
      "metadata": {
        "id": "8bkEIdVgYrBK"
      },
      "source": [
        "file1=open('myfile.txt','w')\r\n",
        "L=['I love letsupgrade \\n']\r\n",
        "file1.close()\r\n",
        "file1=open('myfile.txt','r')\r\n",
        "file1.close()\r\n",
        "file1=open('myfile.txt','a')\r\n",
        "file1.write('Today')\r\n",
        "file1.close()"
      ],
      "execution_count": 2,
      "outputs": []
    },
    {
      "cell_type": "code",
      "metadata": {
        "colab": {
          "base_uri": "https://localhost:8080/"
        },
        "id": "rbVhBAQEZhMF",
        "outputId": "dea06e75-5be5-416b-8078-e406800c7285"
      },
      "source": [
        "n=int(input('Enter no'))\r\n",
        "if (n<0):\r\n",
        "  print(0)\r\n",
        "elif (n==0 or n==1):\r\n",
        "  print(1)\r\n",
        "else:\r\n",
        "  fact=1\r\n",
        "  while (n>1):\r\n",
        "    fact*=n\r\n",
        "    n-=1\r\n",
        "  print(fact)    \r\n"
      ],
      "execution_count": 3,
      "outputs": [
        {
          "output_type": "stream",
          "text": [
            "Enter no5\n",
            "120\n"
          ],
          "name": "stdout"
        }
      ]
    }
  ]
}