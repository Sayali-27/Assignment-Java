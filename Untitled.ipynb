{
  "nbformat": 4,
  "nbformat_minor": 0,
  "metadata": {
    "colab": {
      "name": "Untitled",
      "provenance": [],
      "authorship_tag": "ABX9TyMbhCFGQ+vYJr5LxaSAI1Kv",
      "include_colab_link": true
    },
    "kernelspec": {
      "name": "python3",
      "display_name": "Python 3"
    }
  },
  "cells": [
    {
      "cell_type": "markdown",
      "metadata": {
        "id": "view-in-github",
        "colab_type": "text"
      },
      "source": [
        "<a href=\"https://colab.research.google.com/github/Sayali-27/Assignment-Java/blob/main/Untitled.ipynb\" target=\"_parent\"><img src=\"https://colab.research.google.com/assets/colab-badge.svg\" alt=\"Open In Colab\"/></a>"
      ]
    },
    {
      "cell_type": "code",
      "metadata": {
        "id": "wHaUmyWOUkP5",
        "outputId": "3c0de834-5c72-4ef1-a108-d7d3f959c475",
        "colab": {
          "base_uri": "https://localhost:8080/"
        }
      },
      "source": [
        "import numpy as np\n",
        "np.arange(start=2,stop=50,step=3)"
      ],
      "execution_count": 1,
      "outputs": [
        {
          "output_type": "execute_result",
          "data": {
            "text/plain": [
              "array([ 2,  5,  8, 11, 14, 17, 20, 23, 26, 29, 32, 35, 38, 41, 44, 47])"
            ]
          },
          "metadata": {
            "tags": []
          },
          "execution_count": 1
        }
      ]
    },
    {
      "cell_type": "code",
      "metadata": {
        "id": "Ns7UKVwCVK_1",
        "outputId": "ad2f6c37-bee7-46f5-cae9-b2d98c9c9b8a",
        "colab": {
          "base_uri": "https://localhost:8080/"
        }
      },
      "source": [
        "l1=[1,2,3,4]\n",
        "l2=[5,6,7,8]\n",
        "\n",
        "arr=np.array([l1]) \n",
        "arr1=np.array([l2])\n",
        "print(arr) \n",
        "print(arr1) \n"
      ],
      "execution_count": 7,
      "outputs": [
        {
          "output_type": "stream",
          "text": [
            "[[1 2 3 4]]\n",
            "[[5 6 7 8]]\n"
          ],
          "name": "stdout"
        }
      ]
    },
    {
      "cell_type": "code",
      "metadata": {
        "id": "efemLngBWeie",
        "outputId": "7b30d11e-2ffa-4376-b553-cb6bbf48fe0b",
        "colab": {
          "base_uri": "https://localhost:8080/"
        }
      },
      "source": [
        "ar=np.array([1,1,2,3,4,4,3,5])\n",
        "np.unique(ar,return_counts='True')"
      ],
      "execution_count": 8,
      "outputs": [
        {
          "output_type": "execute_result",
          "data": {
            "text/plain": [
              "(array([1, 2, 3, 4, 5]), array([2, 1, 2, 2, 1]))"
            ]
          },
          "metadata": {
            "tags": []
          },
          "execution_count": 8
        }
      ]
    },
    {
      "cell_type": "code",
      "metadata": {
        "id": "3b6W4_ThW3cu",
        "outputId": "2593abb3-64e9-42ec-9400-bdc7eed17cf9",
        "colab": {
          "base_uri": "https://localhost:8080/"
        }
      },
      "source": [
        "df=np.array([[1,2],[3,4],[5,6]])\n",
        "print(df)\n",
        "print(df.shape)\n",
        "\n"
      ],
      "execution_count": 13,
      "outputs": [
        {
          "output_type": "stream",
          "text": [
            "[[1 2]\n",
            " [3 4]\n",
            " [5 6]]\n",
            "(3, 2)\n"
          ],
          "name": "stdout"
        }
      ]
    },
    {
      "cell_type": "code",
      "metadata": {
        "id": "QbsPDEkQYL5Z",
        "outputId": "ddf8831f-77e2-4bc7-ad35-cfd2db8dac43",
        "colab": {
          "base_uri": "https://localhost:8080/"
        }
      },
      "source": [
        "df=np.array([[1,2],[3,4]])\n",
        "dt=np.array([[11,22],[33,44]])\n",
        "z=np.vstack((df,dt))\n",
        "print(z)\n",
        "y=np.hstack((df,dt))\n",
        "print(y)"
      ],
      "execution_count": 21,
      "outputs": [
        {
          "output_type": "stream",
          "text": [
            "[[ 1  2]\n",
            " [ 3  4]\n",
            " [11 22]\n",
            " [33 44]]\n",
            "[[ 1  2 11 22]\n",
            " [ 3  4 33 44]]\n"
          ],
          "name": "stdout"
        }
      ]
    },
    {
      "cell_type": "code",
      "metadata": {
        "id": "Cf4FsS3bZoXe",
        "outputId": "4176921a-1da2-49e2-c3c7-9cc13d2b992a",
        "colab": {
          "base_uri": "https://localhost:8080/"
        }
      },
      "source": [
        "a=np.array([1,2,3,4])\n",
        "print(a)\n",
        "b=np.reshape(a,(-1,2))\n",
        "print(b)"
      ],
      "execution_count": 23,
      "outputs": [
        {
          "output_type": "stream",
          "text": [
            "[1 2 3 4]\n",
            "[[1 2]\n",
            " [3 4]]\n"
          ],
          "name": "stdout"
        }
      ]
    }
  ]
}